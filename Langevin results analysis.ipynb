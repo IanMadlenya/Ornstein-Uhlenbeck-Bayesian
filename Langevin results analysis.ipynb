{
 "cells": [
  {
   "cell_type": "code",
   "execution_count": 1,
   "metadata": {
    "collapsed": true
   },
   "outputs": [],
   "source": [
    "import numpy as np\n",
    "import matplotlib.pyplot as plt\n",
    "import pandas as pd\n",
    "import glob\n",
    "%matplotlib inline"
   ]
  },
  {
   "cell_type": "code",
   "execution_count": 2,
   "metadata": {
    "collapsed": false
   },
   "outputs": [
    {
     "name": "stdout",
     "output_type": "stream",
     "text": [
      "['results/delta10-2/data2/resultsIGnu_G100.csv', 'results/delta10-2/data2/resultsIGnu_G1000.csv', 'results/delta10-2/data2/resultsIGnu_G10000.csv', 'results/delta10-2/data2/resultsIGnu_G200.csv', 'results/delta10-2/data2/resultsIGnu_G2000.csv', 'results/delta10-2/data2/resultsIGnu_G50.csv', 'results/delta10-2/data2/resultsIGnu_G500.csv', 'results/delta10-2/data2/resultsIGnu_G5000.csv']\n"
     ]
    }
   ],
   "source": [
    "resultsdir=\"results/delta10-2/data2/\"\n",
    "list=glob.glob(resultsdir+\"resultsIGnu_G*\")\n",
    "print(list)\n",
    "resultdict={}\n",
    "N_list=[]\n",
    "A_list=[]\n",
    "D_list=[]\n",
    "Astd_list=[]\n",
    "Dstd_list=[]"
   ]
  },
  {
   "cell_type": "code",
   "execution_count": 3,
   "metadata": {
    "collapsed": false
   },
   "outputs": [
    {
     "name": "stdout",
     "output_type": "stream",
     "text": [
      "100 2.145460852654156 11.287959184163071 1.0453758424608823 0.07928658562586652\n",
      "1000 2.8937627143716744 14.136044237129013 0.9983300937801334 0.04467788867700774\n",
      "10000 1.0996611790699948 0.1831470593014108 0.9986896090879258 0.014865592350438522\n",
      "200 1.714407888329101 9.589706709673736 1.0266590455209836 0.05323485936819923\n",
      "2000 1.7203797371646368 9.045785505607808 0.9983047327728979 0.03232641487485259\n",
      "50 2.974046533229558 12.314529229203659 1.0750064822951149 0.1359410664872016\n",
      "500 2.4081019516191384 13.788994847135717 1.0012557723483513 0.047673650200900294\n",
      "5000 1.1723885085549823 1.225676331993144 0.9985657867379559 0.021541123443277944\n"
     ]
    }
   ],
   "source": [
    "for file in list:\n",
    "    front=file.find(\"IGnu_G\")\n",
    "    dot=file.find(\".\")\n",
    "    Nname=file[front+6:dot]\n",
    "    N=int(Nname)\n",
    "    N_list.append(N)\n",
    "    data=pd.read_csv(file)\n",
    "    data=data[1:]\n",
    "    mean_A=data['mean_A'].mean()\n",
    "    mean_Astd=data['std_A'].mean()\n",
    "    mean_D=data['mean_D'].mean()\n",
    "    mean_Dstd=data['std_D'].mean()\n",
    "    A_list.append(mean_A)\n",
    "    D_list.append(mean_D)\n",
    "    Astd_list.append(mean_Astd)\n",
    "    Dstd_list.append(mean_Dstd)\n",
    "    print(N, mean_A, mean_Astd, mean_D, mean_Dstd)\n",
    "    \n",
    "    "
   ]
  },
  {
   "cell_type": "code",
   "execution_count": 4,
   "metadata": {
    "collapsed": false
   },
   "outputs": [
    {
     "data": {
      "text/html": [
       "<div>\n",
       "<table border=\"1\" class=\"dataframe\">\n",
       "  <thead>\n",
       "    <tr style=\"text-align: right;\">\n",
       "      <th></th>\n",
       "      <th>A</th>\n",
       "      <th>Astd</th>\n",
       "      <th>D</th>\n",
       "      <th>Dstd</th>\n",
       "      <th>N</th>\n",
       "    </tr>\n",
       "  </thead>\n",
       "  <tbody>\n",
       "    <tr>\n",
       "      <th>0</th>\n",
       "      <td>2.974047</td>\n",
       "      <td>12.314529</td>\n",
       "      <td>1.075006</td>\n",
       "      <td>0.135941</td>\n",
       "      <td>50</td>\n",
       "    </tr>\n",
       "    <tr>\n",
       "      <th>1</th>\n",
       "      <td>2.145461</td>\n",
       "      <td>11.287959</td>\n",
       "      <td>1.045376</td>\n",
       "      <td>0.079287</td>\n",
       "      <td>100</td>\n",
       "    </tr>\n",
       "    <tr>\n",
       "      <th>2</th>\n",
       "      <td>1.714408</td>\n",
       "      <td>9.589707</td>\n",
       "      <td>1.026659</td>\n",
       "      <td>0.053235</td>\n",
       "      <td>200</td>\n",
       "    </tr>\n",
       "    <tr>\n",
       "      <th>3</th>\n",
       "      <td>2.408102</td>\n",
       "      <td>13.788995</td>\n",
       "      <td>1.001256</td>\n",
       "      <td>0.047674</td>\n",
       "      <td>500</td>\n",
       "    </tr>\n",
       "    <tr>\n",
       "      <th>4</th>\n",
       "      <td>2.893763</td>\n",
       "      <td>14.136044</td>\n",
       "      <td>0.998330</td>\n",
       "      <td>0.044678</td>\n",
       "      <td>1000</td>\n",
       "    </tr>\n",
       "    <tr>\n",
       "      <th>5</th>\n",
       "      <td>1.720380</td>\n",
       "      <td>9.045786</td>\n",
       "      <td>0.998305</td>\n",
       "      <td>0.032326</td>\n",
       "      <td>2000</td>\n",
       "    </tr>\n",
       "    <tr>\n",
       "      <th>6</th>\n",
       "      <td>1.172389</td>\n",
       "      <td>1.225676</td>\n",
       "      <td>0.998566</td>\n",
       "      <td>0.021541</td>\n",
       "      <td>5000</td>\n",
       "    </tr>\n",
       "    <tr>\n",
       "      <th>7</th>\n",
       "      <td>1.099661</td>\n",
       "      <td>0.183147</td>\n",
       "      <td>0.998690</td>\n",
       "      <td>0.014866</td>\n",
       "      <td>10000</td>\n",
       "    </tr>\n",
       "  </tbody>\n",
       "</table>\n",
       "</div>"
      ],
      "text/plain": [
       "          A       Astd         D      Dstd      N\n",
       "0  2.974047  12.314529  1.075006  0.135941     50\n",
       "1  2.145461  11.287959  1.045376  0.079287    100\n",
       "2  1.714408   9.589707  1.026659  0.053235    200\n",
       "3  2.408102  13.788995  1.001256  0.047674    500\n",
       "4  2.893763  14.136044  0.998330  0.044678   1000\n",
       "5  1.720380   9.045786  0.998305  0.032326   2000\n",
       "6  1.172389   1.225676  0.998566  0.021541   5000\n",
       "7  1.099661   0.183147  0.998690  0.014866  10000"
      ]
     },
     "execution_count": 4,
     "metadata": {},
     "output_type": "execute_result"
    }
   ],
   "source": [
    "N_list=np.array(N_list)\n",
    "A_list=np.array(A_list)\n",
    "D_list=np.array(D_list)\n",
    "Astd_list=np.array(Astd_list)\n",
    "Dstd_list=np.array(Dstd_list)\n",
    "\n",
    "#now sort\n",
    "idx   = np.argsort(N_list)\n",
    "\n",
    "N_list = N_list[idx]\n",
    "A_list = A_list[idx]\n",
    "D_list = D_list[idx]\n",
    "Astd_list = Astd_list[idx]\n",
    "Dstd_list = Dstd_list[idx]\n",
    "\n",
    "datadict={ 'N':N_list,\n",
    "           'A':A_list,\n",
    "           'D':D_list,\n",
    "           'Astd':Astd_list,\n",
    "           'Dstd':Dstd_list\n",
    "         }\n",
    "\n",
    "df=pd.DataFrame(datadict)\n",
    "df"
   ]
  },
  {
   "cell_type": "code",
   "execution_count": null,
   "metadata": {
    "collapsed": true
   },
   "outputs": [],
   "source": []
  }
 ],
 "metadata": {
  "anaconda-cloud": {},
  "kernelspec": {
   "display_name": "Python [python3]",
   "language": "python",
   "name": "Python [python3]"
  },
  "language_info": {
   "codemirror_mode": {
    "name": "ipython",
    "version": 3
   },
   "file_extension": ".py",
   "mimetype": "text/x-python",
   "name": "python",
   "nbconvert_exporter": "python",
   "pygments_lexer": "ipython3",
   "version": "3.5.2"
  }
 },
 "nbformat": 4,
 "nbformat_minor": 0
}
