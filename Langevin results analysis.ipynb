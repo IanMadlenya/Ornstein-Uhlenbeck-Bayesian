{
 "cells": [
  {
   "cell_type": "code",
   "execution_count": 74,
   "metadata": {
    "collapsed": true
   },
   "outputs": [],
   "source": [
    "import numpy as np\n",
    "import matplotlib.pyplot as plt\n",
    "import pandas as pd\n",
    "import glob\n",
    "%matplotlib inline"
   ]
  },
  {
   "cell_type": "code",
   "execution_count": 75,
   "metadata": {
    "collapsed": false
   },
   "outputs": [
    {
     "name": "stdout",
     "output_type": "stream",
     "text": [
      "['results/delta10-2/data2/resultsIGnu_G100.csv', 'results/delta10-2/data2/resultsIGnu_G1000.csv', 'results/delta10-2/data2/resultsIGnu_G10000.csv', 'results/delta10-2/data2/resultsIGnu_G200.csv', 'results/delta10-2/data2/resultsIGnu_G2000.csv', 'results/delta10-2/data2/resultsIGnu_G50.csv', 'results/delta10-2/data2/resultsIGnu_G500.csv', 'results/delta10-2/data2/resultsIGnu_G5000.csv']\n"
     ]
    }
   ],
   "source": [
    "resultsdir=\"results/delta10-2/data2/\"\n",
    "list=glob.glob(resultsdir+\"resultsIGnu_G*\")\n",
    "print(list)\n",
    "resultdict={}\n",
    "N_list=[]\n",
    "A_list=[]\n",
    "D_list=[]\n",
    "Astd_list=[]\n",
    "Dstd_list=[]"
   ]
  },
  {
   "cell_type": "code",
   "execution_count": 76,
   "metadata": {
    "collapsed": false
   },
   "outputs": [
    {
     "name": "stdout",
     "output_type": "stream",
     "text": [
      "100 10.144652624343301 297.44259810077097 1.0187957100014622 0.055199622758662796\n",
      "1000 27.515936374476173 813.9041700975077 0.9877312260478502 0.02651169569059238\n",
      "10000 1.100960738308463 0.1860133109055052 0.9985602222081552 0.015063771906770109\n",
      "200 6.965053719295754 288.03297394846106 1.0370661938648402 0.031182795067230554\n",
      "2000 17.644152758962754 824.5834728667462 1.0039300924403562 0.03146935027098881\n",
      "50 8.92436077681159 267.7746501235578 1.034362806359779 0.07068289101029951\n",
      "500 12.308959497615112 395.3062841121019 1.0262389162273575 0.029623538798727617\n",
      "5000 1.1653789579118579 0.7760911194360796 0.9985974007742878 0.021653004616508008\n"
     ]
    }
   ],
   "source": [
    "for file in list:\n",
    "    front=file.find(\"IGnu_G\")\n",
    "    dot=file.find(\".\")\n",
    "    Nname=file[front+6:dot]\n",
    "    N=int(Nname)\n",
    "    N_list.append(N)\n",
    "    data=pd.read_csv(file)\n",
    "    data=data[1:]\n",
    "    mean_A=data['mean_A'].mean()\n",
    "    mean_Astd=data['std_A'].mean()\n",
    "    mean_D=data['mean_D'].mean()\n",
    "    mean_Dstd=data['std_D'].mean()\n",
    "    A_list.append(mean_A)\n",
    "    D_list.append(mean_D)\n",
    "    Astd_list.append(mean_Astd)\n",
    "    Dstd_list.append(mean_Dstd)\n",
    "    print(N, mean_A, mean_Astd, mean_D, mean_Dstd)\n",
    "    \n",
    "    "
   ]
  },
  {
   "cell_type": "code",
   "execution_count": 77,
   "metadata": {
    "collapsed": false
   },
   "outputs": [
    {
     "data": {
      "text/html": [
       "<div>\n",
       "<table border=\"1\" class=\"dataframe\">\n",
       "  <thead>\n",
       "    <tr style=\"text-align: right;\">\n",
       "      <th></th>\n",
       "      <th>A</th>\n",
       "      <th>Astd</th>\n",
       "      <th>D</th>\n",
       "      <th>Dstd</th>\n",
       "      <th>N</th>\n",
       "    </tr>\n",
       "  </thead>\n",
       "  <tbody>\n",
       "    <tr>\n",
       "      <th>0</th>\n",
       "      <td>8.924361</td>\n",
       "      <td>267.774650</td>\n",
       "      <td>1.034363</td>\n",
       "      <td>0.070683</td>\n",
       "      <td>50</td>\n",
       "    </tr>\n",
       "    <tr>\n",
       "      <th>1</th>\n",
       "      <td>10.144653</td>\n",
       "      <td>297.442598</td>\n",
       "      <td>1.018796</td>\n",
       "      <td>0.055200</td>\n",
       "      <td>100</td>\n",
       "    </tr>\n",
       "    <tr>\n",
       "      <th>2</th>\n",
       "      <td>6.965054</td>\n",
       "      <td>288.032974</td>\n",
       "      <td>1.037066</td>\n",
       "      <td>0.031183</td>\n",
       "      <td>200</td>\n",
       "    </tr>\n",
       "    <tr>\n",
       "      <th>3</th>\n",
       "      <td>12.308959</td>\n",
       "      <td>395.306284</td>\n",
       "      <td>1.026239</td>\n",
       "      <td>0.029624</td>\n",
       "      <td>500</td>\n",
       "    </tr>\n",
       "    <tr>\n",
       "      <th>4</th>\n",
       "      <td>27.515936</td>\n",
       "      <td>813.904170</td>\n",
       "      <td>0.987731</td>\n",
       "      <td>0.026512</td>\n",
       "      <td>1000</td>\n",
       "    </tr>\n",
       "    <tr>\n",
       "      <th>5</th>\n",
       "      <td>17.644153</td>\n",
       "      <td>824.583473</td>\n",
       "      <td>1.003930</td>\n",
       "      <td>0.031469</td>\n",
       "      <td>2000</td>\n",
       "    </tr>\n",
       "    <tr>\n",
       "      <th>6</th>\n",
       "      <td>1.165379</td>\n",
       "      <td>0.776091</td>\n",
       "      <td>0.998597</td>\n",
       "      <td>0.021653</td>\n",
       "      <td>5000</td>\n",
       "    </tr>\n",
       "    <tr>\n",
       "      <th>7</th>\n",
       "      <td>1.100961</td>\n",
       "      <td>0.186013</td>\n",
       "      <td>0.998560</td>\n",
       "      <td>0.015064</td>\n",
       "      <td>10000</td>\n",
       "    </tr>\n",
       "  </tbody>\n",
       "</table>\n",
       "</div>"
      ],
      "text/plain": [
       "           A        Astd         D      Dstd      N\n",
       "0   8.924361  267.774650  1.034363  0.070683     50\n",
       "1  10.144653  297.442598  1.018796  0.055200    100\n",
       "2   6.965054  288.032974  1.037066  0.031183    200\n",
       "3  12.308959  395.306284  1.026239  0.029624    500\n",
       "4  27.515936  813.904170  0.987731  0.026512   1000\n",
       "5  17.644153  824.583473  1.003930  0.031469   2000\n",
       "6   1.165379    0.776091  0.998597  0.021653   5000\n",
       "7   1.100961    0.186013  0.998560  0.015064  10000"
      ]
     },
     "execution_count": 77,
     "metadata": {},
     "output_type": "execute_result"
    }
   ],
   "source": [
    "N_list=np.array(N_list)\n",
    "A_list=np.array(A_list)\n",
    "D_list=np.array(D_list)\n",
    "Astd_list=np.array(Astd_list)\n",
    "Dstd_list=np.array(Dstd_list)\n",
    "\n",
    "#now sort\n",
    "idx   = np.argsort(N_list)\n",
    "\n",
    "N_list = N_list[idx]\n",
    "A_list = A_list[idx]\n",
    "D_list = D_list[idx]\n",
    "Astd_list = Astd_list[idx]\n",
    "Dstd_list = Dstd_list[idx]\n",
    "\n",
    "datadict={ 'N':N_list,\n",
    "           'A':A_list,\n",
    "           'D':D_list,\n",
    "           'Astd':Astd_list,\n",
    "           'Dstd':Dstd_list\n",
    "         }\n",
    "\n",
    "df=pd.DataFrame(datadict)\n",
    "df"
   ]
  },
  {
   "cell_type": "code",
   "execution_count": null,
   "metadata": {
    "collapsed": true
   },
   "outputs": [],
   "source": []
  }
 ],
 "metadata": {
  "anaconda-cloud": {},
  "kernelspec": {
   "display_name": "Python [python3]",
   "language": "python",
   "name": "Python [python3]"
  },
  "language_info": {
   "codemirror_mode": {
    "name": "ipython",
    "version": 3
   },
   "file_extension": ".py",
   "mimetype": "text/x-python",
   "name": "python",
   "nbconvert_exporter": "python",
   "pygments_lexer": "ipython3",
   "version": "3.5.2"
  }
 },
 "nbformat": 4,
 "nbformat_minor": 0
}
